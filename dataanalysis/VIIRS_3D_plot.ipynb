{
  "nbformat": 4,
  "nbformat_minor": 0,
  "metadata": {
    "kernelspec": {
      "display_name": "Python 3",
      "language": "python",
      "name": "python3"
    },
    "language_info": {
      "codemirror_mode": {
        "name": "ipython",
        "version": 3
      },
      "file_extension": ".py",
      "mimetype": "text/x-python",
      "name": "python",
      "nbconvert_exporter": "python",
      "pygments_lexer": "ipython3",
      "version": "3.8.3"
    },
    "colab": {
      "name": "VIIRS_3D_plot.ipynb",
      "provenance": []
    }
  },
  "cells": [
    {
      "cell_type": "code",
      "metadata": {
        "id": "dMtBTkuayy_N"
      },
      "source": [
        "import pandas as pd"
      ],
      "execution_count": null,
      "outputs": []
    },
    {
      "cell_type": "code",
      "metadata": {
        "id": "-5IfDRdqyy_R"
      },
      "source": [
        "df = pd.read_csv(\"~/Downloads/NASA_spaceapps_challenge/active_fire_data/fire_archive_V1_157508.csv\")"
      ],
      "execution_count": null,
      "outputs": []
    },
    {
      "cell_type": "code",
      "metadata": {
        "id": "mkv6yAMdyy_U",
        "outputId": "c3561521-548b-42b6-dc57-14784e1d3f38"
      },
      "source": [
        "df.head(5)"
      ],
      "execution_count": null,
      "outputs": [
        {
          "output_type": "execute_result",
          "data": {
            "text/html": [
              "<div>\n",
              "<style scoped>\n",
              "    .dataframe tbody tr th:only-of-type {\n",
              "        vertical-align: middle;\n",
              "    }\n",
              "\n",
              "    .dataframe tbody tr th {\n",
              "        vertical-align: top;\n",
              "    }\n",
              "\n",
              "    .dataframe thead th {\n",
              "        text-align: right;\n",
              "    }\n",
              "</style>\n",
              "<table border=\"1\" class=\"dataframe\">\n",
              "  <thead>\n",
              "    <tr style=\"text-align: right;\">\n",
              "      <th></th>\n",
              "      <th>latitude</th>\n",
              "      <th>longitude</th>\n",
              "      <th>bright_ti4</th>\n",
              "      <th>scan</th>\n",
              "      <th>track</th>\n",
              "      <th>acq_date</th>\n",
              "      <th>acq_time</th>\n",
              "      <th>satellite</th>\n",
              "      <th>instrument</th>\n",
              "      <th>confidence</th>\n",
              "      <th>version</th>\n",
              "      <th>bright_ti5</th>\n",
              "      <th>frp</th>\n",
              "      <th>daynight</th>\n",
              "      <th>type</th>\n",
              "    </tr>\n",
              "  </thead>\n",
              "  <tbody>\n",
              "    <tr>\n",
              "      <th>0</th>\n",
              "      <td>69.364296</td>\n",
              "      <td>88.116959</td>\n",
              "      <td>322.24</td>\n",
              "      <td>0.53</td>\n",
              "      <td>0.67</td>\n",
              "      <td>2020-01-01</td>\n",
              "      <td>30</td>\n",
              "      <td>N</td>\n",
              "      <td>VIIRS</td>\n",
              "      <td>n</td>\n",
              "      <td>1</td>\n",
              "      <td>257.64</td>\n",
              "      <td>2.88</td>\n",
              "      <td>N</td>\n",
              "      <td>2</td>\n",
              "    </tr>\n",
              "    <tr>\n",
              "      <th>1</th>\n",
              "      <td>69.364082</td>\n",
              "      <td>88.113747</td>\n",
              "      <td>334.42</td>\n",
              "      <td>0.53</td>\n",
              "      <td>0.67</td>\n",
              "      <td>2020-01-01</td>\n",
              "      <td>30</td>\n",
              "      <td>N</td>\n",
              "      <td>VIIRS</td>\n",
              "      <td>n</td>\n",
              "      <td>1</td>\n",
              "      <td>259.08</td>\n",
              "      <td>4.17</td>\n",
              "      <td>N</td>\n",
              "      <td>2</td>\n",
              "    </tr>\n",
              "    <tr>\n",
              "      <th>2</th>\n",
              "      <td>67.272606</td>\n",
              "      <td>83.214142</td>\n",
              "      <td>340.42</td>\n",
              "      <td>0.66</td>\n",
              "      <td>0.73</td>\n",
              "      <td>2020-01-01</td>\n",
              "      <td>31</td>\n",
              "      <td>N</td>\n",
              "      <td>VIIRS</td>\n",
              "      <td>n</td>\n",
              "      <td>1</td>\n",
              "      <td>248.60</td>\n",
              "      <td>5.13</td>\n",
              "      <td>N</td>\n",
              "      <td>0</td>\n",
              "    </tr>\n",
              "    <tr>\n",
              "      <th>3</th>\n",
              "      <td>67.314384</td>\n",
              "      <td>83.136093</td>\n",
              "      <td>324.53</td>\n",
              "      <td>0.65</td>\n",
              "      <td>0.73</td>\n",
              "      <td>2020-01-01</td>\n",
              "      <td>31</td>\n",
              "      <td>N</td>\n",
              "      <td>VIIRS</td>\n",
              "      <td>n</td>\n",
              "      <td>1</td>\n",
              "      <td>248.37</td>\n",
              "      <td>3.25</td>\n",
              "      <td>N</td>\n",
              "      <td>0</td>\n",
              "    </tr>\n",
              "    <tr>\n",
              "      <th>4</th>\n",
              "      <td>68.411438</td>\n",
              "      <td>83.615196</td>\n",
              "      <td>351.08</td>\n",
              "      <td>0.56</td>\n",
              "      <td>0.69</td>\n",
              "      <td>2020-01-01</td>\n",
              "      <td>31</td>\n",
              "      <td>N</td>\n",
              "      <td>VIIRS</td>\n",
              "      <td>n</td>\n",
              "      <td>1</td>\n",
              "      <td>245.24</td>\n",
              "      <td>7.45</td>\n",
              "      <td>N</td>\n",
              "      <td>2</td>\n",
              "    </tr>\n",
              "  </tbody>\n",
              "</table>\n",
              "</div>"
            ],
            "text/plain": [
              "    latitude  longitude  bright_ti4  scan  track    acq_date  acq_time  \\\n",
              "0  69.364296  88.116959      322.24  0.53   0.67  2020-01-01        30   \n",
              "1  69.364082  88.113747      334.42  0.53   0.67  2020-01-01        30   \n",
              "2  67.272606  83.214142      340.42  0.66   0.73  2020-01-01        31   \n",
              "3  67.314384  83.136093      324.53  0.65   0.73  2020-01-01        31   \n",
              "4  68.411438  83.615196      351.08  0.56   0.69  2020-01-01        31   \n",
              "\n",
              "  satellite instrument confidence  version  bright_ti5   frp daynight  type  \n",
              "0         N      VIIRS          n        1      257.64  2.88        N     2  \n",
              "1         N      VIIRS          n        1      259.08  4.17        N     2  \n",
              "2         N      VIIRS          n        1      248.60  5.13        N     0  \n",
              "3         N      VIIRS          n        1      248.37  3.25        N     0  \n",
              "4         N      VIIRS          n        1      245.24  7.45        N     2  "
            ]
          },
          "metadata": {
            "tags": []
          },
          "execution_count": 11
        }
      ]
    },
    {
      "cell_type": "code",
      "metadata": {
        "id": "qmc4fLNmyy_f",
        "outputId": "bc1deb50-e20e-4125-d564-44d09632edb2"
      },
      "source": [
        "data_cols = ['latitude','longitude','bright_ti4','acq_time']\n",
        "df[data_cols[1]].head(10000).shape"
      ],
      "execution_count": null,
      "outputs": [
        {
          "output_type": "execute_result",
          "data": {
            "text/plain": [
              "(10000,)"
            ]
          },
          "metadata": {
            "tags": []
          },
          "execution_count": 12
        }
      ]
    },
    {
      "cell_type": "code",
      "metadata": {
        "id": "FUMkyifWyy_l"
      },
      "source": [
        "from mpl_toolkits import mplot3d"
      ],
      "execution_count": null,
      "outputs": []
    },
    {
      "cell_type": "code",
      "metadata": {
        "id": "AQ0TdxIzyy_v"
      },
      "source": [
        "import numpy as np\n",
        "import matplotlib.pyplot as plt"
      ],
      "execution_count": null,
      "outputs": []
    },
    {
      "cell_type": "code",
      "metadata": {
        "scrolled": true,
        "id": "_hT5I6vEyy_y",
        "outputId": "619d859c-1a0e-41e7-9026-1ae97309453f"
      },
      "source": [
        "ax = plt.axes(projection='3d')\n",
        "\n",
        "zdata = df[data_cols[3]].head(10000)\n",
        "xdata = (np.array(df[data_cols[0]].head(10000).max() * np.ones(10000)) - np.array(df[data_cols[0]].head(10000)))/(df[data_cols[0]].head(10000).max() - df[data_cols[0]].head(10000).min())\n",
        "ydata = (np.array(df[data_cols[1]].head(10000).max() * np.ones(10000)) - np.array(df[data_cols[1]].head(10000)))/(df[data_cols[1]].head(10000).max() - df[data_cols[1]].head(10000).min())\n",
        "ax.scatter3D(xdata, ydata, zdata, c=zdata, cmap='Greens');"
      ],
      "execution_count": null,
      "outputs": [
        {
          "output_type": "display_data",
          "data": {
            "image/png": "[encoded data removed]",
            "text/plain": [
              "<Figure size 432x288 with 1 Axes>"
            ]
          },
          "metadata": {
            "tags": [],
            "needs_background": "light"
          }
        }
      ]
    },
    {
      "cell_type": "code",
      "metadata": {
        "id": "tptNhWUXyy_2"
      },
      "source": [
        ""
      ],
      "execution_count": null,
      "outputs": []
    }
  ]
}