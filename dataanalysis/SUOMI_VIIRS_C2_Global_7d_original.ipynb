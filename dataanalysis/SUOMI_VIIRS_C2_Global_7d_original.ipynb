{
  "nbformat": 4,
  "nbformat_minor": 0,
  "metadata": {
    "colab": {
      "name": "SUOMI_VIIRS_C2_Global_7d.ipynb",
      "provenance": []
    },
    "kernelspec": {
      "name": "python3",
      "display_name": "Python 3"
    }
  },
  "cells": [
    {
      "cell_type": "markdown",
      "metadata": {
        "id": "tVcom0d9-rpH"
      },
      "source": [
        "Author @ Amartya | Nasa International Space App Challenge 2020"
      ]
    },
    {
      "cell_type": "code",
      "metadata": {
        "id": "v-K0v4_1-ubG"
      },
      "source": [
        "import plotly.graph_objects as go\n",
        "\n",
        "import pandas as pd\n",
        "\n",
        "df = pd.read_csv('./SUOMI_VIIRS_C2_Global_7d.csv')"
      ],
      "execution_count": 9,
      "outputs": []
    },
    {
      "cell_type": "code",
      "metadata": {
        "id": "77tPLZjZA2Ve",
        "outputId": "6cda3533-0f2f-4664-cbe5-8b06de348566",
        "colab": {
          "base_uri": "https://localhost:8080/",
          "height": 417
        }
      },
      "source": [
        "df"
      ],
      "execution_count": 10,
      "outputs": [
        {
          "output_type": "execute_result",
          "data": {
            "text/html": [
              "<div>\n",
              "<style scoped>\n",
              "    .dataframe tbody tr th:only-of-type {\n",
              "        vertical-align: middle;\n",
              "    }\n",
              "\n",
              "    .dataframe tbody tr th {\n",
              "        vertical-align: top;\n",
              "    }\n",
              "\n",
              "    .dataframe thead th {\n",
              "        text-align: right;\n",
              "    }\n",
              "</style>\n",
              "<table border=\"1\" class=\"dataframe\">\n",
              "  <thead>\n",
              "    <tr style=\"text-align: right;\">\n",
              "      <th></th>\n",
              "      <th>latitude</th>\n",
              "      <th>longitude</th>\n",
              "      <th>bright_ti4</th>\n",
              "      <th>scan</th>\n",
              "      <th>track</th>\n",
              "      <th>acq_date</th>\n",
              "      <th>acq_time</th>\n",
              "      <th>satellite</th>\n",
              "      <th>confidence</th>\n",
              "      <th>version</th>\n",
              "      <th>bright_ti5</th>\n",
              "      <th>frp</th>\n",
              "      <th>daynight</th>\n",
              "    </tr>\n",
              "  </thead>\n",
              "  <tbody>\n",
              "    <tr>\n",
              "      <th>0</th>\n",
              "      <td>-31.72269</td>\n",
              "      <td>26.84403</td>\n",
              "      <td>302.1</td>\n",
              "      <td>0.39</td>\n",
              "      <td>0.59</td>\n",
              "      <td>2020-09-27</td>\n",
              "      <td>0</td>\n",
              "      <td>N</td>\n",
              "      <td>nominal</td>\n",
              "      <td>2.0NRT</td>\n",
              "      <td>273.3</td>\n",
              "      <td>1.0</td>\n",
              "      <td>N</td>\n",
              "    </tr>\n",
              "    <tr>\n",
              "      <th>1</th>\n",
              "      <td>-32.56054</td>\n",
              "      <td>28.52042</td>\n",
              "      <td>296.4</td>\n",
              "      <td>0.49</td>\n",
              "      <td>0.65</td>\n",
              "      <td>2020-09-27</td>\n",
              "      <td>0</td>\n",
              "      <td>N</td>\n",
              "      <td>nominal</td>\n",
              "      <td>2.0NRT</td>\n",
              "      <td>279.6</td>\n",
              "      <td>0.8</td>\n",
              "      <td>N</td>\n",
              "    </tr>\n",
              "    <tr>\n",
              "      <th>2</th>\n",
              "      <td>-32.64801</td>\n",
              "      <td>25.35258</td>\n",
              "      <td>297.5</td>\n",
              "      <td>0.32</td>\n",
              "      <td>0.55</td>\n",
              "      <td>2020-09-27</td>\n",
              "      <td>0</td>\n",
              "      <td>N</td>\n",
              "      <td>nominal</td>\n",
              "      <td>2.0NRT</td>\n",
              "      <td>272.9</td>\n",
              "      <td>0.8</td>\n",
              "      <td>N</td>\n",
              "    </tr>\n",
              "    <tr>\n",
              "      <th>3</th>\n",
              "      <td>-32.65283</td>\n",
              "      <td>25.34783</td>\n",
              "      <td>295.8</td>\n",
              "      <td>0.32</td>\n",
              "      <td>0.55</td>\n",
              "      <td>2020-09-27</td>\n",
              "      <td>0</td>\n",
              "      <td>N</td>\n",
              "      <td>nominal</td>\n",
              "      <td>2.0NRT</td>\n",
              "      <td>269.8</td>\n",
              "      <td>0.8</td>\n",
              "      <td>N</td>\n",
              "    </tr>\n",
              "    <tr>\n",
              "      <th>4</th>\n",
              "      <td>-32.65307</td>\n",
              "      <td>25.35099</td>\n",
              "      <td>308.3</td>\n",
              "      <td>0.32</td>\n",
              "      <td>0.55</td>\n",
              "      <td>2020-09-27</td>\n",
              "      <td>0</td>\n",
              "      <td>N</td>\n",
              "      <td>nominal</td>\n",
              "      <td>2.0NRT</td>\n",
              "      <td>270.7</td>\n",
              "      <td>0.8</td>\n",
              "      <td>N</td>\n",
              "    </tr>\n",
              "    <tr>\n",
              "      <th>...</th>\n",
              "      <td>...</td>\n",
              "      <td>...</td>\n",
              "      <td>...</td>\n",
              "      <td>...</td>\n",
              "      <td>...</td>\n",
              "      <td>...</td>\n",
              "      <td>...</td>\n",
              "      <td>...</td>\n",
              "      <td>...</td>\n",
              "      <td>...</td>\n",
              "      <td>...</td>\n",
              "      <td>...</td>\n",
              "      <td>...</td>\n",
              "    </tr>\n",
              "    <tr>\n",
              "      <th>596026</th>\n",
              "      <td>-7.24755</td>\n",
              "      <td>39.01584</td>\n",
              "      <td>339.2</td>\n",
              "      <td>0.36</td>\n",
              "      <td>0.57</td>\n",
              "      <td>2020-10-04</td>\n",
              "      <td>1012</td>\n",
              "      <td>N</td>\n",
              "      <td>nominal</td>\n",
              "      <td>2.0NRT</td>\n",
              "      <td>295.7</td>\n",
              "      <td>1.8</td>\n",
              "      <td>D</td>\n",
              "    </tr>\n",
              "    <tr>\n",
              "      <th>596027</th>\n",
              "      <td>-7.51108</td>\n",
              "      <td>36.94795</td>\n",
              "      <td>338.0</td>\n",
              "      <td>0.50</td>\n",
              "      <td>0.66</td>\n",
              "      <td>2020-10-04</td>\n",
              "      <td>1012</td>\n",
              "      <td>N</td>\n",
              "      <td>nominal</td>\n",
              "      <td>2.0NRT</td>\n",
              "      <td>300.2</td>\n",
              "      <td>4.4</td>\n",
              "      <td>D</td>\n",
              "    </tr>\n",
              "    <tr>\n",
              "      <th>596028</th>\n",
              "      <td>-7.84851</td>\n",
              "      <td>34.17260</td>\n",
              "      <td>354.9</td>\n",
              "      <td>0.78</td>\n",
              "      <td>0.78</td>\n",
              "      <td>2020-10-04</td>\n",
              "      <td>1012</td>\n",
              "      <td>N</td>\n",
              "      <td>nominal</td>\n",
              "      <td>2.0NRT</td>\n",
              "      <td>308.5</td>\n",
              "      <td>31.5</td>\n",
              "      <td>D</td>\n",
              "    </tr>\n",
              "    <tr>\n",
              "      <th>596029</th>\n",
              "      <td>-7.84936</td>\n",
              "      <td>34.16545</td>\n",
              "      <td>348.8</td>\n",
              "      <td>0.78</td>\n",
              "      <td>0.78</td>\n",
              "      <td>2020-10-04</td>\n",
              "      <td>1012</td>\n",
              "      <td>N</td>\n",
              "      <td>nominal</td>\n",
              "      <td>2.0NRT</td>\n",
              "      <td>304.5</td>\n",
              "      <td>15.4</td>\n",
              "      <td>D</td>\n",
              "    </tr>\n",
              "    <tr>\n",
              "      <th>596030</th>\n",
              "      <td>-7.85023</td>\n",
              "      <td>34.15806</td>\n",
              "      <td>343.8</td>\n",
              "      <td>0.78</td>\n",
              "      <td>0.78</td>\n",
              "      <td>2020-10-04</td>\n",
              "      <td>1012</td>\n",
              "      <td>N</td>\n",
              "      <td>nominal</td>\n",
              "      <td>2.0NRT</td>\n",
              "      <td>302.8</td>\n",
              "      <td>15.4</td>\n",
              "      <td>D</td>\n",
              "    </tr>\n",
              "  </tbody>\n",
              "</table>\n",
              "<p>596031 rows × 13 columns</p>\n",
              "</div>"
            ],
            "text/plain": [
              "        latitude  longitude  bright_ti4  ...  bright_ti5   frp daynight\n",
              "0      -31.72269   26.84403       302.1  ...       273.3   1.0        N\n",
              "1      -32.56054   28.52042       296.4  ...       279.6   0.8        N\n",
              "2      -32.64801   25.35258       297.5  ...       272.9   0.8        N\n",
              "3      -32.65283   25.34783       295.8  ...       269.8   0.8        N\n",
              "4      -32.65307   25.35099       308.3  ...       270.7   0.8        N\n",
              "...          ...        ...         ...  ...         ...   ...      ...\n",
              "596026  -7.24755   39.01584       339.2  ...       295.7   1.8        D\n",
              "596027  -7.51108   36.94795       338.0  ...       300.2   4.4        D\n",
              "596028  -7.84851   34.17260       354.9  ...       308.5  31.5        D\n",
              "596029  -7.84936   34.16545       348.8  ...       304.5  15.4        D\n",
              "596030  -7.85023   34.15806       343.8  ...       302.8  15.4        D\n",
              "\n",
              "[596031 rows x 13 columns]"
            ]
          },
          "metadata": {
            "tags": []
          },
          "execution_count": 10
        }
      ]
    },
    {
      "cell_type": "code",
      "metadata": {
        "id": "gGRWRisqA6QB"
      },
      "source": [
        "df['text'] = 'Date and Time:' + df['acq_date'].astype(str) + ':' + df['acq_time'].astype(str) + ', ' + df['satellite'].astype(str) + ', ' + df['daynight'].astype(str) "
      ],
      "execution_count": 11,
      "outputs": []
    },
    {
      "cell_type": "code",
      "metadata": {
        "id": "Q82SPPokBA45",
        "outputId": "b80fe706-70ff-41fd-c5d6-ae7a76ae95da",
        "colab": {
          "base_uri": "https://localhost:8080/",
          "height": 228
        }
      },
      "source": [
        "df['text']"
      ],
      "execution_count": 13,
      "outputs": [
        {
          "output_type": "execute_result",
          "data": {
            "text/plain": [
              "0            Date and Time:2020-09-27:0, N, N\n",
              "1            Date and Time:2020-09-27:0, N, N\n",
              "2            Date and Time:2020-09-27:0, N, N\n",
              "3            Date and Time:2020-09-27:0, N, N\n",
              "4            Date and Time:2020-09-27:0, N, N\n",
              "                         ...                 \n",
              "596026    Date and Time:2020-10-04:1012, N, D\n",
              "596027    Date and Time:2020-10-04:1012, N, D\n",
              "596028    Date and Time:2020-10-04:1012, N, D\n",
              "596029    Date and Time:2020-10-04:1012, N, D\n",
              "596030    Date and Time:2020-10-04:1012, N, D\n",
              "Name: text, Length: 596031, dtype: object"
            ]
          },
          "metadata": {
            "tags": []
          },
          "execution_count": 13
        }
      ]
    },
    {
      "cell_type": "code",
      "metadata": {
        "id": "24Dq8OoQBD0j"
      },
      "source": [
        "fig = go.Figure(data=go.Scattergeo(\n",
        "        locationmode = 'USA-states',\n",
        "        lon = df['longitude'],\n",
        "        lat = df['latitude'],\n",
        "        text = df['text'],\n",
        "        mode = 'markers',\n",
        "        marker = dict(\n",
        "            size = 8,\n",
        "            opacity = 0.8,\n",
        "            reversescale = True,\n",
        "            autocolorscale = False,\n",
        "            symbol = 'square',\n",
        "            line = dict(\n",
        "                width=1,\n",
        "                color='rgba(102, 102, 102)'\n",
        "            ),\n",
        "            colorscale = 'Blues',\n",
        "            cmin = 0,\n",
        "            color = df['bright_ti4'],\n",
        "            cmax = df['bright_ti4'].max(),\n",
        "            colorbar_title=\"Incoming flights<br>February 2011\"\n",
        "        )))\n"
      ],
      "execution_count": 17,
      "outputs": []
    },
    {
      "cell_type": "code",
      "metadata": {
        "id": "qJ5GjnumBwhF"
      },
      "source": [
        "\n",
        "fig.update_layout(\n",
        "        title = 'Most trafficked US airports<br>(Hover for airport names)',\n",
        "        geo = dict(\n",
        "            scope='usa',\n",
        "            projection_type='albers usa',\n",
        "            showland = True,\n",
        "            landcolor = \"rgb(250, 250, 250)\",\n",
        "            subunitcolor = \"rgb(217, 217, 217)\",\n",
        "            countrycolor = \"rgb(217, 217, 217)\",\n",
        "            countrywidth = 0.5,\n",
        "            subunitwidth = 0.5\n",
        "        ),\n",
        "    )"
      ],
      "execution_count": 18,
      "outputs": []
    },
    {
      "cell_type": "code",
      "metadata": {
        "id": "RRAl3t3eB3E6"
      },
      "source": [
        "\n",
        "fig.show()"
      ],
      "execution_count": 19,
      "outputs": []
    }
  ]
}